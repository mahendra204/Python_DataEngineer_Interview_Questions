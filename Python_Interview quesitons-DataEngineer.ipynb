{
 "cells": [
  {
   "cell_type": "markdown",
   "id": "12d1a08e",
   "metadata": {},
   "source": [
    "# Q2. Package"
   ]
  },
  {
   "cell_type": "code",
   "execution_count": null,
   "id": "4f1529e5",
   "metadata": {},
   "outputs": [],
   "source": [
    "import math\n",
    "import random"
   ]
  },
  {
   "cell_type": "code",
   "execution_count": null,
   "id": "05111523",
   "metadata": {},
   "outputs": [],
   "source": [
    "!mkdir mahi"
   ]
  },
  {
   "cell_type": "code",
   "execution_count": null,
   "id": "060dfec4",
   "metadata": {},
   "outputs": [],
   "source": [
    "import os\n",
    "os.makedirs('sam')"
   ]
  },
  {
   "cell_type": "code",
   "execution_count": null,
   "id": "8bcabfe4",
   "metadata": {},
   "outputs": [],
   "source": [
    "%%writefile a.py\n",
    "a=928"
   ]
  },
  {
   "cell_type": "code",
   "execution_count": null,
   "id": "6006d1be",
   "metadata": {},
   "outputs": [],
   "source": [
    "%%writefile mahendra/a.py\n",
    "a=200\n",
    "b = 28\n",
    "def f(x):\n",
    "    return x**2\n",
    "def g(y):\n",
    "    return y+82"
   ]
  },
  {
   "cell_type": "code",
   "execution_count": null,
   "id": "3257eeae",
   "metadata": {},
   "outputs": [],
   "source": [
    "%%writefile mahendra/b.py\n",
    "c=29\n",
    "d =98\n",
    "def f(x):\n",
    "    return x**3\n",
    "def g(y):\n",
    "    return y**4"
   ]
  },
  {
   "cell_type": "code",
   "execution_count": null,
   "id": "ba761b5a",
   "metadata": {},
   "outputs": [],
   "source": [
    "%%writefile mahendra/__init__.py\n",
    "name ='mahendra'"
   ]
  },
  {
   "cell_type": "code",
   "execution_count": null,
   "id": "28cd32a1",
   "metadata": {},
   "outputs": [],
   "source": [
    "import mahendra"
   ]
  },
  {
   "cell_type": "code",
   "execution_count": null,
   "id": "e3d13bbf",
   "metadata": {},
   "outputs": [],
   "source": [
    "import b"
   ]
  },
  {
   "cell_type": "code",
   "execution_count": null,
   "id": "27929de3",
   "metadata": {},
   "outputs": [],
   "source": [
    "from mahendra import b"
   ]
  },
  {
   "cell_type": "code",
   "execution_count": null,
   "id": "09b026ff",
   "metadata": {},
   "outputs": [],
   "source": [
    "b.c"
   ]
  },
  {
   "cell_type": "code",
   "execution_count": null,
   "id": "87047b26",
   "metadata": {},
   "outputs": [],
   "source": [
    "b.d"
   ]
  },
  {
   "cell_type": "code",
   "execution_count": null,
   "id": "53c5e73f",
   "metadata": {},
   "outputs": [],
   "source": [
    "b.f(8)"
   ]
  },
  {
   "cell_type": "code",
   "execution_count": null,
   "id": "c030d5fb",
   "metadata": {},
   "outputs": [],
   "source": [
    "b.g(8)"
   ]
  },
  {
   "cell_type": "code",
   "execution_count": null,
   "id": "15dca329",
   "metadata": {},
   "outputs": [],
   "source": [
    "from mahendra.b import c,d,f,g"
   ]
  },
  {
   "cell_type": "code",
   "execution_count": null,
   "id": "a632afe6",
   "metadata": {},
   "outputs": [],
   "source": [
    "c"
   ]
  },
  {
   "cell_type": "code",
   "execution_count": null,
   "id": "f15da5b8",
   "metadata": {},
   "outputs": [],
   "source": [
    "d"
   ]
  },
  {
   "cell_type": "code",
   "execution_count": null,
   "id": "a1246a24",
   "metadata": {},
   "outputs": [],
   "source": [
    "f(7)"
   ]
  },
  {
   "cell_type": "code",
   "execution_count": null,
   "id": "6a22a116",
   "metadata": {},
   "outputs": [],
   "source": [
    "g(7)"
   ]
  },
  {
   "cell_type": "code",
   "execution_count": null,
   "id": "26778b1f",
   "metadata": {},
   "outputs": [],
   "source": [
    "%%writefile c.py\n",
    "import mahendra\n",
    "from mahendra import b\n",
    "print(b.d)\n",
    "print(b.c)\n",
    "ha = 88\n",
    "ah= 828\n",
    "def method(x):\n",
    "    return x-28"
   ]
  },
  {
   "cell_type": "code",
   "execution_count": null,
   "id": "d488b4fd",
   "metadata": {},
   "outputs": [],
   "source": [
    "!python c.py"
   ]
  },
  {
   "cell_type": "code",
   "execution_count": null,
   "id": "f8f58541",
   "metadata": {},
   "outputs": [],
   "source": [
    "import pandas as pd"
   ]
  },
  {
   "cell_type": "code",
   "execution_count": null,
   "id": "1fc042db",
   "metadata": {},
   "outputs": [],
   "source": [
    "dir(pandas)"
   ]
  },
  {
   "cell_type": "code",
   "execution_count": null,
   "id": "5a7141a7",
   "metadata": {},
   "outputs": [],
   "source": []
  },
  {
   "cell_type": "code",
   "execution_count": null,
   "id": "8c14ff24",
   "metadata": {},
   "outputs": [],
   "source": []
  },
  {
   "cell_type": "code",
   "execution_count": null,
   "id": "98920b44",
   "metadata": {},
   "outputs": [],
   "source": []
  },
  {
   "cell_type": "markdown",
   "id": "4b0607e7",
   "metadata": {},
   "source": [
    "## Q3. Given a List of Numbers, find the number of occurrences of each number in the list and return both the number and their occurrences as a Dictionary."
   ]
  },
  {
   "cell_type": "code",
   "execution_count": null,
   "id": "54e0cc05",
   "metadata": {},
   "outputs": [],
   "source": [
    "a={}"
   ]
  },
  {
   "cell_type": "code",
   "execution_count": null,
   "id": "ac747c4f",
   "metadata": {},
   "outputs": [],
   "source": [
    "type(a)"
   ]
  },
  {
   "cell_type": "code",
   "execution_count": null,
   "id": "bd21aeb9",
   "metadata": {},
   "outputs": [],
   "source": [
    "a[0]=3"
   ]
  },
  {
   "cell_type": "code",
   "execution_count": null,
   "id": "36475ec5",
   "metadata": {},
   "outputs": [],
   "source": [
    "a"
   ]
  },
  {
   "cell_type": "code",
   "execution_count": null,
   "id": "8425a309",
   "metadata": {},
   "outputs": [],
   "source": [
    "a[2]=7"
   ]
  },
  {
   "cell_type": "code",
   "execution_count": null,
   "id": "56f38730",
   "metadata": {},
   "outputs": [],
   "source": [
    "a"
   ]
  },
  {
   "cell_type": "code",
   "execution_count": null,
   "id": "fe4e4a72",
   "metadata": {},
   "outputs": [],
   "source": [
    "sorted(a)"
   ]
  },
  {
   "cell_type": "code",
   "execution_count": null,
   "id": "25675813",
   "metadata": {},
   "outputs": [],
   "source": [
    "a.items()"
   ]
  },
  {
   "cell_type": "code",
   "execution_count": null,
   "id": "614e9765",
   "metadata": {},
   "outputs": [],
   "source": [
    "a.values()"
   ]
  },
  {
   "cell_type": "code",
   "execution_count": null,
   "id": "28d05804",
   "metadata": {},
   "outputs": [],
   "source": [
    "a.keys()"
   ]
  },
  {
   "cell_type": "code",
   "execution_count": null,
   "id": "20657d91",
   "metadata": {},
   "outputs": [],
   "source": [
    "sorted(a.items(), key = lambda x: x[1], reverse = True)"
   ]
  },
  {
   "cell_type": "code",
   "execution_count": null,
   "id": "7689583b",
   "metadata": {},
   "outputs": [],
   "source": [
    "a"
   ]
  },
  {
   "cell_type": "code",
   "execution_count": null,
   "id": "0e505c4d",
   "metadata": {},
   "outputs": [],
   "source": [
    "a[0]+=1"
   ]
  },
  {
   "cell_type": "code",
   "execution_count": null,
   "id": "ab2efbb2",
   "metadata": {},
   "outputs": [],
   "source": [
    "a"
   ]
  },
  {
   "cell_type": "code",
   "execution_count": null,
   "id": "c8ca1123",
   "metadata": {},
   "outputs": [],
   "source": [
    "L = [1,2,3,4,23,4,5]"
   ]
  },
  {
   "cell_type": "code",
   "execution_count": null,
   "id": "c5231415",
   "metadata": {},
   "outputs": [],
   "source": [
    "d={}\n",
    "for i in L:\n",
    "    if i in d:\n",
    "        d[i]+=1\n",
    "    else:\n",
    "        d[i]=1"
   ]
  },
  {
   "cell_type": "code",
   "execution_count": null,
   "id": "63637a10",
   "metadata": {},
   "outputs": [],
   "source": [
    "d"
   ]
  },
  {
   "cell_type": "code",
   "execution_count": null,
   "id": "fd1bf062",
   "metadata": {},
   "outputs": [],
   "source": [
    "dict(sorted(d.items(), key = lambda x: x[1]))"
   ]
  },
  {
   "cell_type": "code",
   "execution_count": null,
   "id": "4cc41440",
   "metadata": {},
   "outputs": [],
   "source": [
    "ans={}\n",
    "def f(x):\n",
    "    for i in x:\n",
    "        if i in ans:\n",
    "            ans[i]+=1\n",
    "        else:\n",
    "            ans[i]=1\n",
    "    return dict(sorted(ans.items(), key = lambda x: x[0]))\n",
    "        "
   ]
  },
  {
   "cell_type": "code",
   "execution_count": null,
   "id": "b6ee210d",
   "metadata": {},
   "outputs": [],
   "source": []
  },
  {
   "cell_type": "code",
   "execution_count": null,
   "id": "34c68276",
   "metadata": {},
   "outputs": [],
   "source": []
  },
  {
   "cell_type": "markdown",
   "id": "c75acfd4",
   "metadata": {},
   "source": [
    "# Q4. What is a List Comprehension In Python? Explain it by Writing Code. \n"
   ]
  },
  {
   "cell_type": "code",
   "execution_count": 3,
   "id": "42f59785",
   "metadata": {},
   "outputs": [],
   "source": [
    "a=[1,2,3,4,5,9]"
   ]
  },
  {
   "cell_type": "code",
   "execution_count": 8,
   "id": "bc5eaf76",
   "metadata": {},
   "outputs": [],
   "source": [
    "ans = []\n",
    "for i in range(1,11):\n",
    "    ans.append(i)"
   ]
  },
  {
   "cell_type": "code",
   "execution_count": 9,
   "id": "eb8e6924",
   "metadata": {},
   "outputs": [
    {
     "data": {
      "text/plain": [
       "[1, 2, 3, 4, 5, 6, 7, 8, 9, 10]"
      ]
     },
     "execution_count": 9,
     "metadata": {},
     "output_type": "execute_result"
    }
   ],
   "source": [
    "ans"
   ]
  },
  {
   "cell_type": "code",
   "execution_count": 12,
   "id": "43888fba",
   "metadata": {},
   "outputs": [],
   "source": [
    "even = []\n",
    "for i in ans:\n",
    "    if i%2!=0:\n",
    "        even.append(i)\n",
    "        "
   ]
  },
  {
   "cell_type": "code",
   "execution_count": 13,
   "id": "b1a846f9",
   "metadata": {},
   "outputs": [
    {
     "data": {
      "text/plain": [
       "[1, 3, 5, 7, 9]"
      ]
     },
     "execution_count": 13,
     "metadata": {},
     "output_type": "execute_result"
    }
   ],
   "source": [
    "even"
   ]
  },
  {
   "cell_type": "code",
   "execution_count": 16,
   "id": "09419281",
   "metadata": {},
   "outputs": [],
   "source": [
    "b=[x for x in a]"
   ]
  },
  {
   "cell_type": "code",
   "execution_count": 17,
   "id": "3e19b5ac",
   "metadata": {},
   "outputs": [
    {
     "data": {
      "text/plain": [
       "[1, 2, 3, 4, 5, 9]"
      ]
     },
     "execution_count": 17,
     "metadata": {},
     "output_type": "execute_result"
    }
   ],
   "source": [
    "a"
   ]
  },
  {
   "cell_type": "code",
   "execution_count": 18,
   "id": "43e696f9",
   "metadata": {},
   "outputs": [
    {
     "data": {
      "text/plain": [
       "[1, 2, 3, 4, 5, 9]"
      ]
     },
     "execution_count": 18,
     "metadata": {},
     "output_type": "execute_result"
    }
   ],
   "source": [
    "b"
   ]
  },
  {
   "cell_type": "code",
   "execution_count": 19,
   "id": "cf765370",
   "metadata": {},
   "outputs": [],
   "source": [
    "even = [x for x in a if x%2==0]"
   ]
  },
  {
   "cell_type": "code",
   "execution_count": 20,
   "id": "807773b5",
   "metadata": {},
   "outputs": [
    {
     "data": {
      "text/plain": [
       "[2, 4]"
      ]
     },
     "execution_count": 20,
     "metadata": {},
     "output_type": "execute_result"
    }
   ],
   "source": [
    "even"
   ]
  },
  {
   "cell_type": "code",
   "execution_count": 23,
   "id": "5c165992",
   "metadata": {},
   "outputs": [],
   "source": [
    "odd = [x for x in a if x%2!=0]"
   ]
  },
  {
   "cell_type": "code",
   "execution_count": 24,
   "id": "6b526427",
   "metadata": {},
   "outputs": [
    {
     "data": {
      "text/plain": [
       "[1, 3, 5, 9]"
      ]
     },
     "execution_count": 24,
     "metadata": {},
     "output_type": "execute_result"
    }
   ],
   "source": [
    "odd"
   ]
  },
  {
   "cell_type": "code",
   "execution_count": 26,
   "id": "bc5b7521",
   "metadata": {},
   "outputs": [],
   "source": [
    "u=[var for var in range(1, 10001)]"
   ]
  },
  {
   "cell_type": "code",
   "execution_count": 32,
   "id": "83764a32",
   "metadata": {},
   "outputs": [
    {
     "data": {
      "text/plain": [
       "10000"
      ]
     },
     "execution_count": 32,
     "metadata": {},
     "output_type": "execute_result"
    }
   ],
   "source": [
    "len(u)"
   ]
  },
  {
   "cell_type": "code",
   "execution_count": 33,
   "id": "d4f26e14",
   "metadata": {},
   "outputs": [
    {
     "data": {
      "text/plain": [
       "10000"
      ]
     },
     "execution_count": 33,
     "metadata": {},
     "output_type": "execute_result"
    }
   ],
   "source": [
    "u[9999]"
   ]
  },
  {
   "cell_type": "code",
   "execution_count": 37,
   "id": "be962a28",
   "metadata": {},
   "outputs": [
    {
     "data": {
      "text/plain": [
       "1"
      ]
     },
     "execution_count": 37,
     "metadata": {},
     "output_type": "execute_result"
    }
   ],
   "source": [
    "u[0]"
   ]
  },
  {
   "cell_type": "code",
   "execution_count": 39,
   "id": "fd02bfc8",
   "metadata": {},
   "outputs": [],
   "source": [
    "eve =[even for even in u if even%2==0]"
   ]
  },
  {
   "cell_type": "code",
   "execution_count": 40,
   "id": "1d6085b9",
   "metadata": {},
   "outputs": [
    {
     "data": {
      "text/plain": [
       "5000"
      ]
     },
     "execution_count": 40,
     "metadata": {},
     "output_type": "execute_result"
    }
   ],
   "source": [
    "len(eve)"
   ]
  },
  {
   "cell_type": "code",
   "execution_count": 42,
   "id": "e3d430da",
   "metadata": {},
   "outputs": [
    {
     "data": {
      "text/plain": [
       "[1, 4, 9, 16, 25, 81]"
      ]
     },
     "execution_count": 42,
     "metadata": {},
     "output_type": "execute_result"
    }
   ],
   "source": [
    "[i*i for i in a]"
   ]
  },
  {
   "cell_type": "code",
   "execution_count": 43,
   "id": "f7b7f34e",
   "metadata": {},
   "outputs": [
    {
     "data": {
      "text/plain": [
       "[1, 2, 3, 4, 5, 9]"
      ]
     },
     "execution_count": 43,
     "metadata": {},
     "output_type": "execute_result"
    }
   ],
   "source": [
    "a"
   ]
  },
  {
   "cell_type": "code",
   "execution_count": 45,
   "id": "2525f434",
   "metadata": {},
   "outputs": [
    {
     "data": {
      "text/plain": [
       "[1, 2, 3]"
      ]
     },
     "execution_count": 45,
     "metadata": {},
     "output_type": "execute_result"
    }
   ],
   "source": [
    "[y for y in a if y<4]"
   ]
  },
  {
   "cell_type": "code",
   "execution_count": 46,
   "id": "268b51a4",
   "metadata": {},
   "outputs": [
    {
     "data": {
      "text/plain": [
       "[11, 12, 13, 14, 15, 19]"
      ]
     },
     "execution_count": 46,
     "metadata": {},
     "output_type": "execute_result"
    }
   ],
   "source": [
    "[i+10 for i in a ]"
   ]
  },
  {
   "cell_type": "code",
   "execution_count": 48,
   "id": "ac9023a9",
   "metadata": {},
   "outputs": [
    {
     "data": {
      "text/plain": [
       "[1, 9, 25, 81]"
      ]
     },
     "execution_count": 48,
     "metadata": {},
     "output_type": "execute_result"
    }
   ],
   "source": [
    "[i**2 for i in a if i%2!=0]"
   ]
  },
  {
   "cell_type": "code",
   "execution_count": null,
   "id": "4a835f20",
   "metadata": {},
   "outputs": [],
   "source": []
  },
  {
   "cell_type": "code",
   "execution_count": null,
   "id": "d4194f32",
   "metadata": {},
   "outputs": [],
   "source": []
  },
  {
   "cell_type": "code",
   "execution_count": null,
   "id": "c5c4dd2f",
   "metadata": {},
   "outputs": [],
   "source": []
  },
  {
   "cell_type": "markdown",
   "id": "60ca2fe9",
   "metadata": {},
   "source": [
    "## Q5. Write a Program to return the list of factorial values up to the given number by using recursive function. "
   ]
  },
  {
   "cell_type": "code",
   "execution_count": 30,
   "id": "b366026b",
   "metadata": {},
   "outputs": [],
   "source": [
    "def f(x):\n",
    "    if x<10:\n",
    "        return x\n",
    "    else:\n",
    "        return x + f(x-1)"
   ]
  },
  {
   "cell_type": "code",
   "execution_count": 31,
   "id": "d147bc87",
   "metadata": {},
   "outputs": [
    {
     "data": {
      "text/plain": [
       "30"
      ]
     },
     "execution_count": 31,
     "metadata": {},
     "output_type": "execute_result"
    }
   ],
   "source": [
    "f(11)"
   ]
  },
  {
   "cell_type": "code",
   "execution_count": null,
   "id": "fc5c1d14",
   "metadata": {},
   "outputs": [],
   "source": [
    "11 + 10 + 9"
   ]
  },
  {
   "cell_type": "code",
   "execution_count": 35,
   "id": "8af723f1",
   "metadata": {},
   "outputs": [],
   "source": [
    "def list_fact(n):\n",
    "    def fact(x):\n",
    "        if x==0 or x==1:\n",
    "            return 1\n",
    "        else:\n",
    "            return x * fact(x-1)\n",
    "                #3!==3 *(3-1)! ==> 5!=> 5*(5-4)!\n",
    "    return [fact(i) for i in range(1,n+1)]"
   ]
  },
  {
   "cell_type": "code",
   "execution_count": 36,
   "id": "21fb24be",
   "metadata": {},
   "outputs": [
    {
     "data": {
      "text/plain": [
       "120"
      ]
     },
     "execution_count": 36,
     "metadata": {},
     "output_type": "execute_result"
    }
   ],
   "source": [
    "fact(5)"
   ]
  },
  {
   "cell_type": "code",
   "execution_count": 38,
   "id": "7590ea19",
   "metadata": {},
   "outputs": [
    {
     "data": {
      "text/plain": [
       "[1, 2, 6, 24, 120, 720, 5040, 40320, 362880, 3628800]"
      ]
     },
     "execution_count": 38,
     "metadata": {},
     "output_type": "execute_result"
    }
   ],
   "source": [
    "list_fact(10)"
   ]
  },
  {
   "cell_type": "code",
   "execution_count": null,
   "id": "a015dc88",
   "metadata": {},
   "outputs": [],
   "source": []
  },
  {
   "cell_type": "code",
   "execution_count": null,
   "id": "37dba3c3",
   "metadata": {},
   "outputs": [],
   "source": []
  },
  {
   "cell_type": "code",
   "execution_count": null,
   "id": "6016008a",
   "metadata": {},
   "outputs": [],
   "source": []
  },
  {
   "cell_type": "code",
   "execution_count": null,
   "id": "2350ef44",
   "metadata": {},
   "outputs": [],
   "source": []
  },
  {
   "attachments": {},
   "cell_type": "markdown",
   "id": "5859a334",
   "metadata": {},
   "source": [
    "## Q6. Write a program to return the list of palindromic numbers to the given number."
   ]
  },
  {
   "cell_type": "code",
   "execution_count": null,
   "id": "98a01dc8",
   "metadata": {},
   "outputs": [],
   "source": [
    "44==> 44\n",
    "121 ==> "
   ]
  },
  {
   "cell_type": "code",
   "execution_count": 85,
   "id": "7f01e567",
   "metadata": {},
   "outputs": [],
   "source": [
    "def list_palindrom(n):\n",
    "    def palindrom(x):\n",
    "        y = x\n",
    "        rev =0\n",
    "        while x>0:\n",
    "            reminder = x%10\n",
    "            rev = rev * 10 + reminder #===> 0, 1, 12, 121\n",
    "            x//=10\n",
    "        if rev ==y:\n",
    "            return y\n",
    "    return [j for j in (palindrom(i) for i in range(1, n+1)) if j is not None]"
   ]
  },
  {
   "cell_type": "code",
   "execution_count": 86,
   "id": "6272580d",
   "metadata": {},
   "outputs": [
    {
     "data": {
      "text/plain": [
       "353"
      ]
     },
     "execution_count": 86,
     "metadata": {},
     "output_type": "execute_result"
    }
   ],
   "source": [
    "rev(353)"
   ]
  },
  {
   "cell_type": "code",
   "execution_count": 88,
   "id": "d9d48530",
   "metadata": {},
   "outputs": [
    {
     "data": {
      "text/plain": [
       "[1,\n",
       " 2,\n",
       " 3,\n",
       " 4,\n",
       " 5,\n",
       " 6,\n",
       " 7,\n",
       " 8,\n",
       " 9,\n",
       " 11,\n",
       " 22,\n",
       " 33,\n",
       " 44,\n",
       " 55,\n",
       " 66,\n",
       " 77,\n",
       " 88,\n",
       " 99,\n",
       " 101,\n",
       " 111,\n",
       " 121,\n",
       " 131,\n",
       " 141,\n",
       " 151,\n",
       " 161,\n",
       " 171,\n",
       " 181,\n",
       " 191,\n",
       " 202,\n",
       " 212,\n",
       " 222,\n",
       " 232,\n",
       " 242,\n",
       " 252,\n",
       " 262,\n",
       " 272,\n",
       " 282,\n",
       " 292,\n",
       " 303,\n",
       " 313,\n",
       " 323,\n",
       " 333,\n",
       " 343,\n",
       " 353,\n",
       " 363,\n",
       " 373,\n",
       " 383,\n",
       " 393,\n",
       " 404,\n",
       " 414,\n",
       " 424,\n",
       " 434,\n",
       " 444,\n",
       " 454,\n",
       " 464,\n",
       " 474,\n",
       " 484,\n",
       " 494,\n",
       " 505,\n",
       " 515,\n",
       " 525,\n",
       " 535,\n",
       " 545,\n",
       " 555,\n",
       " 565,\n",
       " 575,\n",
       " 585,\n",
       " 595,\n",
       " 606,\n",
       " 616,\n",
       " 626,\n",
       " 636,\n",
       " 646,\n",
       " 656,\n",
       " 666,\n",
       " 676,\n",
       " 686,\n",
       " 696,\n",
       " 707,\n",
       " 717,\n",
       " 727,\n",
       " 737,\n",
       " 747,\n",
       " 757,\n",
       " 767,\n",
       " 777,\n",
       " 787,\n",
       " 797,\n",
       " 808,\n",
       " 818,\n",
       " 828,\n",
       " 838,\n",
       " 848,\n",
       " 858,\n",
       " 868,\n",
       " 878,\n",
       " 888,\n",
       " 898,\n",
       " 909,\n",
       " 919,\n",
       " 929,\n",
       " 939,\n",
       " 949,\n",
       " 959,\n",
       " 969,\n",
       " 979,\n",
       " 989,\n",
       " 999]"
      ]
     },
     "execution_count": 88,
     "metadata": {},
     "output_type": "execute_result"
    }
   ],
   "source": [
    "list_palindrom(1000)"
   ]
  },
  {
   "cell_type": "code",
   "execution_count": 94,
   "id": "0fabde79",
   "metadata": {},
   "outputs": [],
   "source": [
    "def pal(x):\n",
    "    return [i for i in range(x+1) if str(i) == str(i)[::-1]]"
   ]
  },
  {
   "cell_type": "code",
   "execution_count": 95,
   "id": "c136bc1c",
   "metadata": {},
   "outputs": [
    {
     "data": {
      "text/plain": [
       "[0, 1, 2, 3, 4, 5, 6, 7, 8, 9, 11, 22, 33, 44, 55, 66, 77, 88, 99]"
      ]
     },
     "execution_count": 95,
     "metadata": {},
     "output_type": "execute_result"
    }
   ],
   "source": [
    "pal(100)"
   ]
  },
  {
   "cell_type": "code",
   "execution_count": 89,
   "id": "7042054e",
   "metadata": {},
   "outputs": [
    {
     "data": {
      "text/plain": [
       "23"
      ]
     },
     "execution_count": 89,
     "metadata": {},
     "output_type": "execute_result"
    }
   ],
   "source": [
    "23"
   ]
  },
  {
   "cell_type": "code",
   "execution_count": 90,
   "id": "8e6e42ce",
   "metadata": {},
   "outputs": [
    {
     "data": {
      "text/plain": [
       "'23'"
      ]
     },
     "execution_count": 90,
     "metadata": {},
     "output_type": "execute_result"
    }
   ],
   "source": [
    "str(23)"
   ]
  },
  {
   "cell_type": "code",
   "execution_count": 91,
   "id": "e1c8cda3",
   "metadata": {},
   "outputs": [
    {
     "data": {
      "text/plain": [
       "'32'"
      ]
     },
     "execution_count": 91,
     "metadata": {},
     "output_type": "execute_result"
    }
   ],
   "source": [
    "str(23)[::-1]"
   ]
  },
  {
   "cell_type": "code",
   "execution_count": null,
   "id": "cb672208",
   "metadata": {},
   "outputs": [],
   "source": []
  }
 ],
 "metadata": {
  "kernelspec": {
   "display_name": "Python 3 (ipykernel)",
   "language": "python",
   "name": "python3"
  },
  "language_info": {
   "codemirror_mode": {
    "name": "ipython",
    "version": 3
   },
   "file_extension": ".py",
   "mimetype": "text/x-python",
   "name": "python",
   "nbconvert_exporter": "python",
   "pygments_lexer": "ipython3",
   "version": "3.10.9"
  }
 },
 "nbformat": 4,
 "nbformat_minor": 5
}
